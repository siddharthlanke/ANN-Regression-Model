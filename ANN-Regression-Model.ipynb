{
  "nbformat": 4,
  "nbformat_minor": 0,
  "metadata": {
    "colab": {
      "provenance": [],
      "authorship_tag": "ABX9TyOLya19YRFexdxjZc3NZY5r",
      "include_colab_link": true
    },
    "kernelspec": {
      "name": "python3",
      "display_name": "Python 3"
    },
    "language_info": {
      "name": "python"
    }
  },
  "cells": [
    {
      "cell_type": "markdown",
      "metadata": {
        "id": "view-in-github",
        "colab_type": "text"
      },
      "source": [
        "<a href=\"https://colab.research.google.com/github/siddharthlanke/ANN-Regression-Model/blob/main/ANN-Regression-Model.ipynb\" target=\"_parent\"><img src=\"https://colab.research.google.com/assets/colab-badge.svg\" alt=\"Open In Colab\"/></a>"
      ]
    },
    {
      "cell_type": "markdown",
      "source": [
        "# Artificial Neural Network"
      ],
      "metadata": {
        "id": "Z2KdylvHfNo-"
      }
    },
    {
      "cell_type": "markdown",
      "source": [
        "## Importing the libraries"
      ],
      "metadata": {
        "id": "FqZR8cDRfTiw"
      }
    },
    {
      "cell_type": "code",
      "execution_count": null,
      "metadata": {
        "id": "epVDyNJ8ek00"
      },
      "outputs": [],
      "source": [
        "import pandas as pd\n",
        "import numpy as np\n",
        "import tensorflow as tf\n",
        "from sklearn.model_selection import train_test_split"
      ]
    },
    {
      "cell_type": "code",
      "source": [
        "# Checking the version of tensorflow library\n",
        "tf.__version__"
      ],
      "metadata": {
        "colab": {
          "base_uri": "https://localhost:8080/",
          "height": 36
        },
        "id": "SiBZBxzNfkUK",
        "outputId": "bd8029b1-27e6-43ad-9bf1-37bb05d66db0"
      },
      "execution_count": null,
      "outputs": [
        {
          "output_type": "execute_result",
          "data": {
            "text/plain": [
              "'2.12.0'"
            ],
            "application/vnd.google.colaboratory.intrinsic+json": {
              "type": "string"
            }
          },
          "metadata": {},
          "execution_count": 2
        }
      ]
    },
    {
      "cell_type": "markdown",
      "source": [
        "## Importing the dataset"
      ],
      "metadata": {
        "id": "OghlKP0Nfzqb"
      }
    },
    {
      "cell_type": "code",
      "source": [
        "dataset = pd.read_excel(\"dataset.xlsx\")\n",
        "dataset.head()"
      ],
      "metadata": {
        "colab": {
          "base_uri": "https://localhost:8080/",
          "height": 206
        },
        "id": "xBKTsw16fnze",
        "outputId": "515a166c-32e5-4125-986c-a8210c0fb53e"
      },
      "execution_count": null,
      "outputs": [
        {
          "output_type": "execute_result",
          "data": {
            "text/plain": [
              "      AT      V       AP     RH      PE\n",
              "0  14.96  41.76  1024.07  73.17  463.26\n",
              "1  25.18  62.96  1020.04  59.08  444.37\n",
              "2   5.11  39.40  1012.16  92.14  488.56\n",
              "3  20.86  57.32  1010.24  76.64  446.48\n",
              "4  10.82  37.50  1009.23  96.62  473.90"
            ],
            "text/html": [
              "\n",
              "\n",
              "  <div id=\"df-6897583a-96dc-4696-9863-439cb1b32d8f\">\n",
              "    <div class=\"colab-df-container\">\n",
              "      <div>\n",
              "<style scoped>\n",
              "    .dataframe tbody tr th:only-of-type {\n",
              "        vertical-align: middle;\n",
              "    }\n",
              "\n",
              "    .dataframe tbody tr th {\n",
              "        vertical-align: top;\n",
              "    }\n",
              "\n",
              "    .dataframe thead th {\n",
              "        text-align: right;\n",
              "    }\n",
              "</style>\n",
              "<table border=\"1\" class=\"dataframe\">\n",
              "  <thead>\n",
              "    <tr style=\"text-align: right;\">\n",
              "      <th></th>\n",
              "      <th>AT</th>\n",
              "      <th>V</th>\n",
              "      <th>AP</th>\n",
              "      <th>RH</th>\n",
              "      <th>PE</th>\n",
              "    </tr>\n",
              "  </thead>\n",
              "  <tbody>\n",
              "    <tr>\n",
              "      <th>0</th>\n",
              "      <td>14.96</td>\n",
              "      <td>41.76</td>\n",
              "      <td>1024.07</td>\n",
              "      <td>73.17</td>\n",
              "      <td>463.26</td>\n",
              "    </tr>\n",
              "    <tr>\n",
              "      <th>1</th>\n",
              "      <td>25.18</td>\n",
              "      <td>62.96</td>\n",
              "      <td>1020.04</td>\n",
              "      <td>59.08</td>\n",
              "      <td>444.37</td>\n",
              "    </tr>\n",
              "    <tr>\n",
              "      <th>2</th>\n",
              "      <td>5.11</td>\n",
              "      <td>39.40</td>\n",
              "      <td>1012.16</td>\n",
              "      <td>92.14</td>\n",
              "      <td>488.56</td>\n",
              "    </tr>\n",
              "    <tr>\n",
              "      <th>3</th>\n",
              "      <td>20.86</td>\n",
              "      <td>57.32</td>\n",
              "      <td>1010.24</td>\n",
              "      <td>76.64</td>\n",
              "      <td>446.48</td>\n",
              "    </tr>\n",
              "    <tr>\n",
              "      <th>4</th>\n",
              "      <td>10.82</td>\n",
              "      <td>37.50</td>\n",
              "      <td>1009.23</td>\n",
              "      <td>96.62</td>\n",
              "      <td>473.90</td>\n",
              "    </tr>\n",
              "  </tbody>\n",
              "</table>\n",
              "</div>\n",
              "      <button class=\"colab-df-convert\" onclick=\"convertToInteractive('df-6897583a-96dc-4696-9863-439cb1b32d8f')\"\n",
              "              title=\"Convert this dataframe to an interactive table.\"\n",
              "              style=\"display:none;\">\n",
              "\n",
              "  <svg xmlns=\"http://www.w3.org/2000/svg\" height=\"24px\"viewBox=\"0 0 24 24\"\n",
              "       width=\"24px\">\n",
              "    <path d=\"M0 0h24v24H0V0z\" fill=\"none\"/>\n",
              "    <path d=\"M18.56 5.44l.94 2.06.94-2.06 2.06-.94-2.06-.94-.94-2.06-.94 2.06-2.06.94zm-11 1L8.5 8.5l.94-2.06 2.06-.94-2.06-.94L8.5 2.5l-.94 2.06-2.06.94zm10 10l.94 2.06.94-2.06 2.06-.94-2.06-.94-.94-2.06-.94 2.06-2.06.94z\"/><path d=\"M17.41 7.96l-1.37-1.37c-.4-.4-.92-.59-1.43-.59-.52 0-1.04.2-1.43.59L10.3 9.45l-7.72 7.72c-.78.78-.78 2.05 0 2.83L4 21.41c.39.39.9.59 1.41.59.51 0 1.02-.2 1.41-.59l7.78-7.78 2.81-2.81c.8-.78.8-2.07 0-2.86zM5.41 20L4 18.59l7.72-7.72 1.47 1.35L5.41 20z\"/>\n",
              "  </svg>\n",
              "      </button>\n",
              "\n",
              "\n",
              "\n",
              "    <div id=\"df-56b97691-ec9a-45e2-9a7c-7bbad970b5fb\">\n",
              "      <button class=\"colab-df-quickchart\" onclick=\"quickchart('df-56b97691-ec9a-45e2-9a7c-7bbad970b5fb')\"\n",
              "              title=\"Suggest charts.\"\n",
              "              style=\"display:none;\">\n",
              "\n",
              "<svg xmlns=\"http://www.w3.org/2000/svg\" height=\"24px\"viewBox=\"0 0 24 24\"\n",
              "     width=\"24px\">\n",
              "    <g>\n",
              "        <path d=\"M19 3H5c-1.1 0-2 .9-2 2v14c0 1.1.9 2 2 2h14c1.1 0 2-.9 2-2V5c0-1.1-.9-2-2-2zM9 17H7v-7h2v7zm4 0h-2V7h2v10zm4 0h-2v-4h2v4z\"/>\n",
              "    </g>\n",
              "</svg>\n",
              "      </button>\n",
              "    </div>\n",
              "\n",
              "<style>\n",
              "  .colab-df-quickchart {\n",
              "    background-color: #E8F0FE;\n",
              "    border: none;\n",
              "    border-radius: 50%;\n",
              "    cursor: pointer;\n",
              "    display: none;\n",
              "    fill: #1967D2;\n",
              "    height: 32px;\n",
              "    padding: 0 0 0 0;\n",
              "    width: 32px;\n",
              "  }\n",
              "\n",
              "  .colab-df-quickchart:hover {\n",
              "    background-color: #E2EBFA;\n",
              "    box-shadow: 0px 1px 2px rgba(60, 64, 67, 0.3), 0px 1px 3px 1px rgba(60, 64, 67, 0.15);\n",
              "    fill: #174EA6;\n",
              "  }\n",
              "\n",
              "  [theme=dark] .colab-df-quickchart {\n",
              "    background-color: #3B4455;\n",
              "    fill: #D2E3FC;\n",
              "  }\n",
              "\n",
              "  [theme=dark] .colab-df-quickchart:hover {\n",
              "    background-color: #434B5C;\n",
              "    box-shadow: 0px 1px 3px 1px rgba(0, 0, 0, 0.15);\n",
              "    filter: drop-shadow(0px 1px 2px rgba(0, 0, 0, 0.3));\n",
              "    fill: #FFFFFF;\n",
              "  }\n",
              "</style>\n",
              "\n",
              "    <script>\n",
              "      async function quickchart(key) {\n",
              "        const containerElement = document.querySelector('#' + key);\n",
              "        const charts = await google.colab.kernel.invokeFunction(\n",
              "            'suggestCharts', [key], {});\n",
              "      }\n",
              "    </script>\n",
              "\n",
              "      <script>\n",
              "\n",
              "function displayQuickchartButton(domScope) {\n",
              "  let quickchartButtonEl =\n",
              "    domScope.querySelector('#df-56b97691-ec9a-45e2-9a7c-7bbad970b5fb button.colab-df-quickchart');\n",
              "  quickchartButtonEl.style.display =\n",
              "    google.colab.kernel.accessAllowed ? 'block' : 'none';\n",
              "}\n",
              "\n",
              "        displayQuickchartButton(document);\n",
              "      </script>\n",
              "      <style>\n",
              "    .colab-df-container {\n",
              "      display:flex;\n",
              "      flex-wrap:wrap;\n",
              "      gap: 12px;\n",
              "    }\n",
              "\n",
              "    .colab-df-convert {\n",
              "      background-color: #E8F0FE;\n",
              "      border: none;\n",
              "      border-radius: 50%;\n",
              "      cursor: pointer;\n",
              "      display: none;\n",
              "      fill: #1967D2;\n",
              "      height: 32px;\n",
              "      padding: 0 0 0 0;\n",
              "      width: 32px;\n",
              "    }\n",
              "\n",
              "    .colab-df-convert:hover {\n",
              "      background-color: #E2EBFA;\n",
              "      box-shadow: 0px 1px 2px rgba(60, 64, 67, 0.3), 0px 1px 3px 1px rgba(60, 64, 67, 0.15);\n",
              "      fill: #174EA6;\n",
              "    }\n",
              "\n",
              "    [theme=dark] .colab-df-convert {\n",
              "      background-color: #3B4455;\n",
              "      fill: #D2E3FC;\n",
              "    }\n",
              "\n",
              "    [theme=dark] .colab-df-convert:hover {\n",
              "      background-color: #434B5C;\n",
              "      box-shadow: 0px 1px 3px 1px rgba(0, 0, 0, 0.15);\n",
              "      filter: drop-shadow(0px 1px 2px rgba(0, 0, 0, 0.3));\n",
              "      fill: #FFFFFF;\n",
              "    }\n",
              "  </style>\n",
              "\n",
              "      <script>\n",
              "        const buttonEl =\n",
              "          document.querySelector('#df-6897583a-96dc-4696-9863-439cb1b32d8f button.colab-df-convert');\n",
              "        buttonEl.style.display =\n",
              "          google.colab.kernel.accessAllowed ? 'block' : 'none';\n",
              "\n",
              "        async function convertToInteractive(key) {\n",
              "          const element = document.querySelector('#df-6897583a-96dc-4696-9863-439cb1b32d8f');\n",
              "          const dataTable =\n",
              "            await google.colab.kernel.invokeFunction('convertToInteractive',\n",
              "                                                     [key], {});\n",
              "          if (!dataTable) return;\n",
              "\n",
              "          const docLinkHtml = 'Like what you see? Visit the ' +\n",
              "            '<a target=\"_blank\" href=https://colab.research.google.com/notebooks/data_table.ipynb>data table notebook</a>'\n",
              "            + ' to learn more about interactive tables.';\n",
              "          element.innerHTML = '';\n",
              "          dataTable['output_type'] = 'display_data';\n",
              "          await google.colab.output.renderOutput(dataTable, element);\n",
              "          const docLink = document.createElement('div');\n",
              "          docLink.innerHTML = docLinkHtml;\n",
              "          element.appendChild(docLink);\n",
              "        }\n",
              "      </script>\n",
              "    </div>\n",
              "  </div>\n"
            ]
          },
          "metadata": {},
          "execution_count": 3
        }
      ]
    },
    {
      "cell_type": "code",
      "source": [
        "dataset.shape"
      ],
      "metadata": {
        "colab": {
          "base_uri": "https://localhost:8080/"
        },
        "id": "JoxY9uIMCYYI",
        "outputId": "079c1e73-2a8e-4a47-a12d-9bea331fcd56"
      },
      "execution_count": null,
      "outputs": [
        {
          "output_type": "execute_result",
          "data": {
            "text/plain": [
              "(9568, 5)"
            ]
          },
          "metadata": {},
          "execution_count": 4
        }
      ]
    },
    {
      "cell_type": "code",
      "source": [
        "# Checking for null values\n",
        "dataset.isnull().sum()"
      ],
      "metadata": {
        "colab": {
          "base_uri": "https://localhost:8080/"
        },
        "id": "vE91OX8agCrD",
        "outputId": "d3e92452-4799-4b7b-da12-e36ac3af4492"
      },
      "execution_count": null,
      "outputs": [
        {
          "output_type": "execute_result",
          "data": {
            "text/plain": [
              "AT    0\n",
              "V     0\n",
              "AP    0\n",
              "RH    0\n",
              "PE    0\n",
              "dtype: int64"
            ]
          },
          "metadata": {},
          "execution_count": 5
        }
      ]
    },
    {
      "cell_type": "markdown",
      "source": [
        "## Splitting the dataset into the Training set and Test set"
      ],
      "metadata": {
        "id": "lvgGQgn_gw2E"
      }
    },
    {
      "cell_type": "code",
      "source": [
        "X = dataset.iloc[:, :-1].values\n",
        "y = dataset.iloc[:, -1].values"
      ],
      "metadata": {
        "id": "7Tl0OnzWgfri"
      },
      "execution_count": null,
      "outputs": []
    },
    {
      "cell_type": "code",
      "source": [
        "X_train, X_test, y_train, y_test = train_test_split(X, y , test_size = 0.2, random_state = 0)"
      ],
      "metadata": {
        "id": "VdXG3LUThHIy"
      },
      "execution_count": null,
      "outputs": []
    },
    {
      "cell_type": "markdown",
      "source": [
        "## Initializing the ANN"
      ],
      "metadata": {
        "id": "VCqRByIri6Kz"
      }
    },
    {
      "cell_type": "code",
      "source": [
        "ann = tf.keras.models.Sequential()"
      ],
      "metadata": {
        "id": "JYo2kLVthOE8"
      },
      "execution_count": null,
      "outputs": []
    },
    {
      "cell_type": "code",
      "source": [
        "# Adding the input layer and first hidden layer\n",
        "ann.add(tf.keras.layers.Dense(units = 6, activation = 'relu'))\n",
        "\n",
        "# Adding the second hidden layer\n",
        "ann.add(tf.keras.layers.Dense(units = 6, activation = 'relu'))\n",
        "\n",
        "# Adding the output layer\n",
        "ann.add(tf.keras.layers.Dense(units = 1))"
      ],
      "metadata": {
        "id": "dB3n6E_AkAaV"
      },
      "execution_count": null,
      "outputs": []
    },
    {
      "cell_type": "markdown",
      "source": [
        "In classification tasks, the Sigmoid function is employed for distinguishing between two categories, while the Softmax function is utilized for distinguishing between more than two categories. However, since our task involves regression, we decided to omit the activation function from the output layer."
      ],
      "metadata": {
        "id": "DLSMiTnfmwEQ"
      }
    },
    {
      "cell_type": "markdown",
      "source": [
        "## Training the ANN"
      ],
      "metadata": {
        "id": "9FnHlTv4oIux"
      }
    },
    {
      "cell_type": "code",
      "source": [
        "# Compiling the model\n",
        "ann.compile(optimizer = 'adam', loss = 'mean_squared_error')\n",
        "\n",
        "# Training the model on the training set\n",
        "ann.fit(X_train, y_train, batch_size = 32, epochs = 100)"
      ],
      "metadata": {
        "colab": {
          "base_uri": "https://localhost:8080/"
        },
        "id": "wb1EhNqAmyB0",
        "outputId": "04b11535-b9e4-453a-b0b9-beb14b1f0d16"
      },
      "execution_count": null,
      "outputs": [
        {
          "output_type": "stream",
          "name": "stdout",
          "text": [
            "Epoch 1/100\n",
            "240/240 [==============================] - 1s 1ms/step - loss: 11073.4023\n",
            "Epoch 2/100\n",
            "240/240 [==============================] - 0s 1ms/step - loss: 128.1742\n",
            "Epoch 3/100\n",
            "240/240 [==============================] - 0s 1ms/step - loss: 119.7524\n",
            "Epoch 4/100\n",
            "240/240 [==============================] - 0s 1ms/step - loss: 110.3536\n",
            "Epoch 5/100\n",
            "240/240 [==============================] - 0s 2ms/step - loss: 100.4275\n",
            "Epoch 6/100\n",
            "240/240 [==============================] - 0s 2ms/step - loss: 90.3122\n",
            "Epoch 7/100\n",
            "240/240 [==============================] - 0s 2ms/step - loss: 78.4515\n",
            "Epoch 8/100\n",
            "240/240 [==============================] - 0s 2ms/step - loss: 66.2013\n",
            "Epoch 9/100\n",
            "240/240 [==============================] - 1s 2ms/step - loss: 57.2563\n",
            "Epoch 10/100\n",
            "240/240 [==============================] - 1s 2ms/step - loss: 49.8059\n",
            "Epoch 11/100\n",
            "240/240 [==============================] - 0s 2ms/step - loss: 44.4557\n",
            "Epoch 12/100\n",
            "240/240 [==============================] - 0s 2ms/step - loss: 40.0363\n",
            "Epoch 13/100\n",
            "240/240 [==============================] - 1s 3ms/step - loss: 36.9993\n",
            "Epoch 14/100\n",
            "240/240 [==============================] - 1s 5ms/step - loss: 34.4002\n",
            "Epoch 15/100\n",
            "240/240 [==============================] - 1s 3ms/step - loss: 32.5191\n",
            "Epoch 16/100\n",
            "240/240 [==============================] - 1s 2ms/step - loss: 31.0871\n",
            "Epoch 17/100\n",
            "240/240 [==============================] - 1s 3ms/step - loss: 29.9398\n",
            "Epoch 18/100\n",
            "240/240 [==============================] - 1s 3ms/step - loss: 29.4044\n",
            "Epoch 19/100\n",
            "240/240 [==============================] - 1s 3ms/step - loss: 29.2346\n",
            "Epoch 20/100\n",
            "240/240 [==============================] - 1s 2ms/step - loss: 28.8885\n",
            "Epoch 21/100\n",
            "240/240 [==============================] - 0s 2ms/step - loss: 28.7281\n",
            "Epoch 22/100\n",
            "240/240 [==============================] - 0s 2ms/step - loss: 28.6370\n",
            "Epoch 23/100\n",
            "240/240 [==============================] - 0s 2ms/step - loss: 28.4200\n",
            "Epoch 24/100\n",
            "240/240 [==============================] - 0s 2ms/step - loss: 28.1957\n",
            "Epoch 25/100\n",
            "240/240 [==============================] - 1s 2ms/step - loss: 28.0566\n",
            "Epoch 26/100\n",
            "240/240 [==============================] - 0s 2ms/step - loss: 27.6333\n",
            "Epoch 27/100\n",
            "240/240 [==============================] - 1s 2ms/step - loss: 27.8064\n",
            "Epoch 28/100\n",
            "240/240 [==============================] - 0s 2ms/step - loss: 27.9548\n",
            "Epoch 29/100\n",
            "240/240 [==============================] - 1s 2ms/step - loss: 27.0652\n",
            "Epoch 30/100\n",
            "240/240 [==============================] - 1s 2ms/step - loss: 27.5972\n",
            "Epoch 31/100\n",
            "240/240 [==============================] - 0s 1ms/step - loss: 27.5211\n",
            "Epoch 32/100\n",
            "240/240 [==============================] - 0s 1ms/step - loss: 26.8801\n",
            "Epoch 33/100\n",
            "240/240 [==============================] - 0s 1ms/step - loss: 26.8095\n",
            "Epoch 34/100\n",
            "240/240 [==============================] - 0s 1ms/step - loss: 27.0004\n",
            "Epoch 35/100\n",
            "240/240 [==============================] - 0s 1ms/step - loss: 27.2994\n",
            "Epoch 36/100\n",
            "240/240 [==============================] - 0s 1ms/step - loss: 26.8386\n",
            "Epoch 37/100\n",
            "240/240 [==============================] - 0s 1ms/step - loss: 27.0990\n",
            "Epoch 38/100\n",
            "240/240 [==============================] - 0s 2ms/step - loss: 26.9683\n",
            "Epoch 39/100\n",
            "240/240 [==============================] - 0s 1ms/step - loss: 26.9373\n",
            "Epoch 40/100\n",
            "240/240 [==============================] - 0s 1ms/step - loss: 27.1798\n",
            "Epoch 41/100\n",
            "240/240 [==============================] - 0s 1ms/step - loss: 27.0877\n",
            "Epoch 42/100\n",
            "240/240 [==============================] - 0s 1ms/step - loss: 26.8787\n",
            "Epoch 43/100\n",
            "240/240 [==============================] - 0s 1ms/step - loss: 27.2617\n",
            "Epoch 44/100\n",
            "240/240 [==============================] - 0s 1ms/step - loss: 26.9225\n",
            "Epoch 45/100\n",
            "240/240 [==============================] - 0s 1ms/step - loss: 27.4712\n",
            "Epoch 46/100\n",
            "240/240 [==============================] - 0s 1ms/step - loss: 26.7390\n",
            "Epoch 47/100\n",
            "240/240 [==============================] - 0s 1ms/step - loss: 27.5850\n",
            "Epoch 48/100\n",
            "240/240 [==============================] - 0s 1ms/step - loss: 27.3992\n",
            "Epoch 49/100\n",
            "240/240 [==============================] - 0s 1ms/step - loss: 26.4785\n",
            "Epoch 50/100\n",
            "240/240 [==============================] - 0s 1ms/step - loss: 26.5524\n",
            "Epoch 51/100\n",
            "240/240 [==============================] - 0s 1ms/step - loss: 27.5441\n",
            "Epoch 52/100\n",
            "240/240 [==============================] - 0s 1ms/step - loss: 27.4414\n",
            "Epoch 53/100\n",
            "240/240 [==============================] - 0s 1ms/step - loss: 27.4694\n",
            "Epoch 54/100\n",
            "240/240 [==============================] - 0s 1ms/step - loss: 26.9116\n",
            "Epoch 55/100\n",
            "240/240 [==============================] - 0s 1ms/step - loss: 26.7806\n",
            "Epoch 56/100\n",
            "240/240 [==============================] - 0s 1ms/step - loss: 26.8074\n",
            "Epoch 57/100\n",
            "240/240 [==============================] - 0s 1ms/step - loss: 26.6020\n",
            "Epoch 58/100\n",
            "240/240 [==============================] - 0s 1ms/step - loss: 26.9199\n",
            "Epoch 59/100\n",
            "240/240 [==============================] - 0s 1ms/step - loss: 26.7322\n",
            "Epoch 60/100\n",
            "240/240 [==============================] - 0s 1ms/step - loss: 27.0762\n",
            "Epoch 61/100\n",
            "240/240 [==============================] - 0s 1ms/step - loss: 27.2722\n",
            "Epoch 62/100\n",
            "240/240 [==============================] - 0s 1ms/step - loss: 26.8807\n",
            "Epoch 63/100\n",
            "240/240 [==============================] - 0s 1ms/step - loss: 26.8476\n",
            "Epoch 64/100\n",
            "240/240 [==============================] - 0s 1ms/step - loss: 26.7328\n",
            "Epoch 65/100\n",
            "240/240 [==============================] - 0s 1ms/step - loss: 26.6191\n",
            "Epoch 66/100\n",
            "240/240 [==============================] - 0s 1ms/step - loss: 26.8407\n",
            "Epoch 67/100\n",
            "240/240 [==============================] - 0s 1ms/step - loss: 27.1669\n",
            "Epoch 68/100\n",
            "240/240 [==============================] - 0s 1ms/step - loss: 27.0326\n",
            "Epoch 69/100\n",
            "240/240 [==============================] - 0s 1ms/step - loss: 27.1107\n",
            "Epoch 70/100\n",
            "240/240 [==============================] - 0s 1ms/step - loss: 26.6237\n",
            "Epoch 71/100\n",
            "240/240 [==============================] - 0s 1ms/step - loss: 27.3915\n",
            "Epoch 72/100\n",
            "240/240 [==============================] - 0s 1ms/step - loss: 26.5652\n",
            "Epoch 73/100\n",
            "240/240 [==============================] - 0s 1ms/step - loss: 26.6724\n",
            "Epoch 74/100\n",
            "240/240 [==============================] - 0s 1ms/step - loss: 27.3207\n",
            "Epoch 75/100\n",
            "240/240 [==============================] - 0s 1ms/step - loss: 27.2256\n",
            "Epoch 76/100\n",
            "240/240 [==============================] - 0s 1ms/step - loss: 26.6387\n",
            "Epoch 77/100\n",
            "240/240 [==============================] - 0s 1ms/step - loss: 26.8538\n",
            "Epoch 78/100\n",
            "240/240 [==============================] - 0s 2ms/step - loss: 26.7981\n",
            "Epoch 79/100\n",
            "240/240 [==============================] - 0s 2ms/step - loss: 27.1788\n",
            "Epoch 80/100\n",
            "240/240 [==============================] - 0s 1ms/step - loss: 26.7171\n",
            "Epoch 81/100\n",
            "240/240 [==============================] - 0s 1ms/step - loss: 26.9057\n",
            "Epoch 82/100\n",
            "240/240 [==============================] - 0s 1ms/step - loss: 26.4649\n",
            "Epoch 83/100\n",
            "240/240 [==============================] - 0s 1ms/step - loss: 26.9108\n",
            "Epoch 84/100\n",
            "240/240 [==============================] - 0s 1ms/step - loss: 26.5794\n",
            "Epoch 85/100\n",
            "240/240 [==============================] - 0s 1ms/step - loss: 27.8028\n",
            "Epoch 86/100\n",
            "240/240 [==============================] - 0s 1ms/step - loss: 27.2709\n",
            "Epoch 87/100\n",
            "240/240 [==============================] - 0s 1ms/step - loss: 26.9123\n",
            "Epoch 88/100\n",
            "240/240 [==============================] - 0s 1ms/step - loss: 26.5827\n",
            "Epoch 89/100\n",
            "240/240 [==============================] - 0s 1ms/step - loss: 27.0379\n",
            "Epoch 90/100\n",
            "240/240 [==============================] - 0s 1ms/step - loss: 26.3825\n",
            "Epoch 91/100\n",
            "240/240 [==============================] - 0s 1ms/step - loss: 26.7665\n",
            "Epoch 92/100\n",
            "240/240 [==============================] - 0s 1ms/step - loss: 26.8235\n",
            "Epoch 93/100\n",
            "240/240 [==============================] - 0s 1ms/step - loss: 26.9744\n",
            "Epoch 94/100\n",
            "240/240 [==============================] - 0s 1ms/step - loss: 26.6171\n",
            "Epoch 95/100\n",
            "240/240 [==============================] - 0s 1ms/step - loss: 26.8267\n",
            "Epoch 96/100\n",
            "240/240 [==============================] - 0s 1ms/step - loss: 26.8595\n",
            "Epoch 97/100\n",
            "240/240 [==============================] - 0s 1ms/step - loss: 27.0657\n",
            "Epoch 98/100\n",
            "240/240 [==============================] - 0s 1ms/step - loss: 26.4500\n",
            "Epoch 99/100\n",
            "240/240 [==============================] - 0s 1ms/step - loss: 26.9830\n",
            "Epoch 100/100\n",
            "240/240 [==============================] - 0s 1ms/step - loss: 26.7539\n"
          ]
        },
        {
          "output_type": "execute_result",
          "data": {
            "text/plain": [
              "<keras.callbacks.History at 0x78bf990bf160>"
            ]
          },
          "metadata": {},
          "execution_count": 10
        }
      ]
    },
    {
      "cell_type": "markdown",
      "source": [
        "\n",
        "The batch_size parameter is not mandatory, but when used, it allows features to be forward propagated in batches rather than individually one by one."
      ],
      "metadata": {
        "id": "vDaD716l7nM_"
      }
    },
    {
      "cell_type": "markdown",
      "source": [
        "\n",
        "The training results show the loss decreasing over the course of 100 epochs, indicating that the model is gradually improving its performance. As the loss decreases, the model's ability to make accurate predictions on the data increases. This suggests that the model is learning from the data and adjusting its parameters to fit the training data better."
      ],
      "metadata": {
        "id": "8gtX7eb8-BC4"
      }
    },
    {
      "cell_type": "markdown",
      "source": [
        "## Predicting the results of the test set"
      ],
      "metadata": {
        "id": "-Cp7tZAL_rBq"
      }
    },
    {
      "cell_type": "code",
      "source": [
        "y_pred = ann.predict(X_test)\n",
        "result_df = pd.DataFrame({'Predicted': y_pred.reshape(-1), 'Actual': y_test.reshape(-1)})\n",
        "\n",
        "result_df['Predicted'] = result_df['Predicted'].map('{:.2f}'.format)\n",
        "result_df['Actual'] = result_df['Actual'].map('{:.2f}'.format)\n",
        "\n",
        "print(result_df)"
      ],
      "metadata": {
        "colab": {
          "base_uri": "https://localhost:8080/"
        },
        "id": "SKpDs_Ya_NtT",
        "outputId": "2786fc6c-ff5e-46ba-9b7a-cba25d2c6810"
      },
      "execution_count": null,
      "outputs": [
        {
          "output_type": "stream",
          "name": "stdout",
          "text": [
            "60/60 [==============================] - 0s 916us/step\n",
            "     Predicted  Actual\n",
            "0       431.95  431.23\n",
            "1       463.04  460.01\n",
            "2       466.60  461.14\n",
            "3       449.58  445.90\n",
            "4       460.82  451.29\n",
            "...        ...     ...\n",
            "1909    460.60  460.29\n",
            "1910    458.23  452.42\n",
            "1911    473.83  473.26\n",
            "1912    440.34  438.00\n",
            "1913    459.69  463.28\n",
            "\n",
            "[1914 rows x 2 columns]\n"
          ]
        }
      ]
    },
    {
      "cell_type": "code",
      "source": [
        "input_sample = np.array([[16.90, 55.76, 989.07, 89.17]])\n",
        "predicted = ann.predict(input_sample) # Make the prediction based on the input sample\n",
        "formatted_prediction = predicted[0][0] # Format the prediction result with two decimal places\n",
        "formatted_prediction = '{:.2f}'.format(formatted_prediction)\n",
        "print(\"Predicted Output:\", formatted_prediction,\"Megawatt\")"
      ],
      "metadata": {
        "colab": {
          "base_uri": "https://localhost:8080/"
        },
        "id": "goDtgeOFAs2I",
        "outputId": "cbd14172-964d-4112-a6cd-abc423c8ae8e"
      },
      "execution_count": null,
      "outputs": [
        {
          "output_type": "stream",
          "name": "stdout",
          "text": [
            "1/1 [==============================] - 0s 19ms/step\n",
            "Predicted Output: 445.55 Megawatt\n"
          ]
        }
      ]
    }
  ]
}